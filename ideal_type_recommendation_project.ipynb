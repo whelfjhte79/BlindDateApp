{
  "nbformat": 4,
  "nbformat_minor": 0,
  "metadata": {
    "colab": {
      "name": "ideal_type_recommendation_project.ipynb",
      "private_outputs": true,
      "provenance": [],
      "collapsed_sections": [],
      "mount_file_id": "1S7fbK9QSYHGNZkzaZDD3ldM1fe8YG8no",
      "authorship_tag": "ABX9TyO2E8SIm+7Ia0LNDKaPp9zY",
      "include_colab_link": true
    },
    "kernelspec": {
      "name": "python3",
      "display_name": "Python 3"
    },
    "language_info": {
      "name": "python"
    },
    "accelerator": "GPU"
  },
  "cells": [
    {
      "cell_type": "markdown",
      "metadata": {
        "id": "view-in-github",
        "colab_type": "text"
      },
      "source": [
        "<a href=\"https://colab.research.google.com/github/whelfjhte79/BlindDateApp/blob/main/ideal_type_recommendation_project.ipynb\" target=\"_parent\"><img src=\"https://colab.research.google.com/assets/colab-badge.svg\" alt=\"Open In Colab\"/></a>"
      ]
    },
    {
      "cell_type": "code",
      "metadata": {
        "id": "gjTrJYIvg6_9"
      },
      "source": [
        "!unzip /content/drive/MyDrive/dataset/img.zip -d /content/img/"
      ],
      "execution_count": null,
      "outputs": []
    },
    {
      "cell_type": "code",
      "source": [
        "import pandas as pd\n",
        "import numpy as np\n",
        "import seaborn as sns\n",
        "import os\n",
        "import cv2\n",
        "import matplotlib.pyplot as plt"
      ],
      "metadata": {
        "id": "S8OiFBP1XscB"
      },
      "execution_count": null,
      "outputs": []
    },
    {
      "cell_type": "code",
      "source": [
        "image = cv2.imread('/content/img/img500/1 (1).jpg')\n",
        "image = cv2.cvtColor(image, cv2.COLOR_BGR2RGB)\n",
        "plt.imshow(image)\n",
        "plt.show()"
      ],
      "metadata": {
        "id": "ujIJwJXzXsnN"
      },
      "execution_count": null,
      "outputs": []
    },
    {
      "cell_type": "code",
      "metadata": {
        "id": "BQlHoJu3hSzd"
      },
      "source": [
        "face_image = []\n",
        "imgPath = \"/content/img/\"\n",
        "for i in os.listdir(imgPath):\n",
        "    pic = os.path.join(imgPath + \"/\", i)\n",
        "    face_image.append(pic)"
      ],
      "execution_count": null,
      "outputs": []
    },
    {
      "cell_type": "code",
      "source": [
        "os.listdir(imgPath)[:10]"
      ],
      "metadata": {
        "id": "2YZ5KiqJouhX"
      },
      "execution_count": null,
      "outputs": []
    },
    {
      "cell_type": "code",
      "source": [
        "import tensorflow as tf\n",
        "\n",
        "from keras.preprocessing.image import ImageDataGenerator\n",
        "data_generator = ImageDataGenerator(rescale=1./255)\n"
      ],
      "metadata": {
        "id": "WE1PSss9pW5G"
      },
      "execution_count": null,
      "outputs": []
    },
    {
      "cell_type": "code",
      "source": [
        "image_data = data_generator.flow_from_directory(\n",
        "    '/content/img/',\n",
        "    target_size=(200, 200),\n",
        "    batch_size=1,\n",
        "    class_mode='categorical')"
      ],
      "metadata": {
        "id": "jvKMaCmBuO7E"
      },
      "execution_count": null,
      "outputs": []
    },
    {
      "cell_type": "code",
      "source": [
        "import pandas as pd\n",
        "file_name = '/content/drive/MyDrive/dataset/face_data.csv'\n",
        "csv_data = pd.read_csv(file_name)"
      ],
      "metadata": {
        "id": "Kh3wvaVcymjH"
      },
      "execution_count": null,
      "outputs": []
    },
    {
      "cell_type": "code",
      "source": [
        "print(len(image_data))\n",
        "print(len(image_data[0]))\n",
        "print(len(image_data[0][0]))\n",
        "print(len(image_data[0][0][0]))\n",
        "print(len(image_data[0][0][0][0]))\n",
        "print(len(image_data[0][0][0][0][0]))"
      ],
      "metadata": {
        "id": "hh9geWxeZOAn"
      },
      "execution_count": null,
      "outputs": []
    },
    {
      "cell_type": "code",
      "source": [
        "image_redution = [[[]]]   \n",
        "for i in range(500):        # 이미지 5차원에서 3차원으로 수정  image_data -> image_redution\n",
        "    image_redution.insert(i,image_data[i][0][0])"
      ],
      "metadata": {
        "id": "pbHSj168R5Ar"
      },
      "execution_count": null,
      "outputs": []
    },
    {
      "cell_type": "code",
      "source": [
        "plt.imshow(image_redution[499])   # image_redution 배열 축소 확인\n",
        "plt.show()"
      ],
      "metadata": {
        "id": "dzoZWA3-X1RV"
      },
      "execution_count": null,
      "outputs": []
    },
    {
      "cell_type": "code",
      "source": [
        "input_train = image_redution[0:400]        # X_train, X_test\n",
        "input_test = image_redution[400:500]\n",
        "\n",
        "X_train = np.array(input_train)\n",
        "X_test = np.array(input_test)\n",
        "\n",
        "print(X_train.shape)\n",
        "print(X_test.shape)"
      ],
      "metadata": {
        "id": "KMxxUZCLpCG4"
      },
      "execution_count": null,
      "outputs": []
    },
    {
      "cell_type": "code",
      "source": [
        "# mapping 한번만 실행\n",
        "eyebrow_mapping = { \"Thick\": 1, \"Normal\": 2, \"Thin\": 3}\n",
        "csv_data['Eyebrow'] = csv_data['Eyebrow'].map(eyebrow_mapping)\n",
        "csv_data['Eyebrow'] = csv_data['Eyebrow'].fillna(0)\n",
        "forehead_mapping = {\"F\": 1, \"T\": 2}\n",
        "csv_data['Forehead'] = csv_data['Forehead'].map(forehead_mapping)\n",
        "\n",
        "hairstyle_mapping = {\"Skinhead\": 1, \"Upstyle\": 2, \"Long\": 3, \"Short\": 4, \"Perm\": 5, \"DownStyle\": 6}\n",
        "csv_data['Hairstyle'] = csv_data['Hairstyle'].map(hairstyle_mapping)\n",
        "\n",
        "beard_mapping = {\"F\": 1, \"T\": 2}\n",
        "csv_data['Beard'] = csv_data['Beard'].map(beard_mapping)\n",
        "\n",
        "light_mapping = {\"Black\": 1, \"Yellow\": 2, \"White\": 3}\n",
        "csv_data['Light'] = csv_data['Light'].map(light_mapping)\n",
        "\n",
        "glasses_mapping = {\"F\": 1, \"T\": 2}\n",
        "csv_data['Glasses'] = csv_data['Glasses'].map(glasses_mapping)\n",
        "\n",
        "double_eyelid_mapping = {\"F\": 1, \"T\": 2}\n",
        "csv_data['Double eyelid'] = csv_data['Double eyelid'].map(double_eyelid_mapping)\n",
        "\n",
        "hat_mapping = {\"F\": 1, \"T\": 2}\n",
        "csv_data['Hat'] = csv_data['Hat'].map(hat_mapping)\n",
        "\n",
        "csv_data.head()\n"
      ],
      "metadata": {
        "id": "DhH7U4qUpQyP"
      },
      "execution_count": null,
      "outputs": []
    },
    {
      "cell_type": "code",
      "source": [
        "Y_train = csv_data.iloc[0:400]\n",
        "Y_test = csv_data.iloc[400:500]"
      ],
      "metadata": {
        "id": "NoXtol9zsGjH"
      },
      "execution_count": null,
      "outputs": []
    },
    {
      "cell_type": "code",
      "source": [
        "print(Y_train.shape)\n",
        "print(Y_test.shape)"
      ],
      "metadata": {
        "id": "v9dG7gPpsLh9"
      },
      "execution_count": null,
      "outputs": []
    },
    {
      "cell_type": "code",
      "source": [
        "from tensorflow import keras\n",
        "from keras.utils.np_utils import to_categorical # convert to one-hot-encoding\n",
        "from keras.models import Sequential\n",
        "from keras.layers import Dense, Activation, Dropout, Flatten, Conv2D, MaxPooling2D\n",
        "from tensorflow.keras.optimizers import RMSprop,Adam"
      ],
      "metadata": {
        "id": "hSzrPY5GRDsH"
      },
      "execution_count": null,
      "outputs": []
    },
    {
      "cell_type": "code",
      "source": [
        "model = keras.Sequential()\n",
        "\n",
        "model.add(Conv2D(32, (3, 3), padding='same',input_shape = (200,200,3)))\n",
        "model.add(Activation('relu'))\n",
        "model.add(Conv2D(32, (3, 3)))\n",
        "model.add(Activation('relu'))\n",
        "model.add(MaxPooling2D(pool_size=(2, 2)))\n",
        "model.add(Dropout(0.25))\n",
        "\n",
        "model.add(Conv2D(64, (3, 3), padding='same'))\n",
        "model.add(Activation('relu'))\n",
        "model.add(Conv2D(64, (3, 3)))\n",
        "model.add(Activation('relu'))\n",
        "model.add(MaxPooling2D(pool_size=(2, 2)))\n",
        "model.add(Dropout(0.25))\n",
        "\n",
        "\n",
        "model.add(Flatten())\n",
        "model.add(Dense(512))\n",
        "model.add(Activation('relu'))\n",
        "model.add(Dropout(0.5))\n",
        "\n",
        "model.add(Dense(8))\n",
        "model.add(Activation('softmax'))\n",
        "\n",
        "model.summary()"
      ],
      "metadata": {
        "id": "zaxfR1Gwl-Rp"
      },
      "execution_count": null,
      "outputs": []
    },
    {
      "cell_type": "code",
      "source": [
        "opt = keras.optimizers.RMSprop(learning_rate=0.001, decay=1e-6)\n",
        "\n",
        "model.compile(loss='sparse_categorical_crossentropy',\n",
        "              optimizer=opt,\n",
        "              metrics=['accuracy'])"
      ],
      "metadata": {
        "id": "YV0fKVowq6_A"
      },
      "execution_count": null,
      "outputs": []
    },
    {
      "cell_type": "code",
      "source": [
        "model.fit(X_train, Y_train['Eyebrow'], epochs=10, batch_size=1)"
      ],
      "metadata": {
        "id": "BA1Ld40YrDwT"
      },
      "execution_count": null,
      "outputs": []
    },
    {
      "cell_type": "code",
      "source": [
        "scores = model.evaluate(X_test, Y_test['Eyebrow'], verbose=1)\n",
        "print('Test loss:', scores[0])\n",
        "print('Test accuracy:', scores[1])"
      ],
      "metadata": {
        "id": "RMvZ1NSnIjkW"
      },
      "execution_count": null,
      "outputs": []
    },
    {
      "cell_type": "code",
      "source": [
        "model.save('face_model.h5')"
      ],
      "metadata": {
        "id": "CJq6EOd4Rmpb"
      },
      "execution_count": null,
      "outputs": []
    },
    {
      "cell_type": "code",
      "source": [
        "from tensorflow import keras\n",
        "model = keras.models.load_model('./face_model.h5', compile=False)\n",
        " \n",
        "export_path = './pb'\n",
        "model.save(export_path, save_format=\"tf\")\n"
      ],
      "metadata": {
        "id": "XC5n2r8LIjn9"
      },
      "execution_count": null,
      "outputs": []
    },
    {
      "cell_type": "code",
      "source": [
        "import tensorflow as tf\n",
        "\n",
        "saved_model_dir = './pb'\n",
        "converter = tf.lite.TFLiteConverter.from_saved_model(saved_model_dir)\n",
        "converter.target_spec.supported_ops = [tf.lite.OpsSet.TFLITE_BUILTINS,\n",
        "                                       tf.lite.OpsSet.SELECT_TF_OPS]\n",
        "tflite_model = converter.convert()\n",
        "open('./converted_model.tflite','wb').write(tflite_model)\n"
      ],
      "metadata": {
        "id": "FBwUt_roaLF_"
      },
      "execution_count": null,
      "outputs": []
    }
  ]
}