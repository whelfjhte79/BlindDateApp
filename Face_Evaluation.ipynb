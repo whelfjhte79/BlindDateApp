{
  "nbformat": 4,
  "nbformat_minor": 0,
  "metadata": {
    "colab": {
      "name": "Face Evaluation.ipynb",
      "private_outputs": true,
      "provenance": [],
      "collapsed_sections": [],
      "mount_file_id": "1DngbUaQ74Vlxi3rC6lzEaS461m-Rej6-",
      "authorship_tag": "ABX9TyPpKSz6J5kjrIc6yeUmzZhn",
      "include_colab_link": true
    },
    "kernelspec": {
      "name": "python3",
      "display_name": "Python 3"
    },
    "language_info": {
      "name": "python"
    }
  },
  "cells": [
    {
      "cell_type": "markdown",
      "metadata": {
        "id": "view-in-github",
        "colab_type": "text"
      },
      "source": [
        "<a href=\"https://colab.research.google.com/github/whelfjhte79/BlindDateApp/blob/main/Face_Evaluation.ipynb\" target=\"_parent\"><img src=\"https://colab.research.google.com/assets/colab-badge.svg\" alt=\"Open In Colab\"/></a>"
      ]
    },
    {
      "cell_type": "code",
      "metadata": {
        "id": "gjTrJYIvg6_9"
      },
      "source": [
        "!unzip /content/drive/MyDrive/dataset/Humans.zip -d /content/HumanFace/"
      ],
      "execution_count": null,
      "outputs": []
    },
    {
      "cell_type": "code",
      "metadata": {
        "id": "_AiyLH7tAel9"
      },
      "source": [
        "import pandas as pd\n",
        "import numpy as np\n",
        "import seaborn as sns\n",
        "import os\n",
        "import cv2\n",
        "import matplotlib.pyplot as plt"
      ],
      "execution_count": null,
      "outputs": []
    },
    {
      "cell_type": "code",
      "metadata": {
        "id": "7mkp1Pa5ixSw"
      },
      "source": [
        "from google.colab import files\n",
        "uploaded = files.upload()\n",
        "\n",
        "for fn in uploaded.keys():\n",
        "    print('User uploaded file \"{name}\" with length {length} bytes'.format(name=fn,length=len(uploaded[fn])))"
      ],
      "execution_count": null,
      "outputs": []
    },
    {
      "cell_type": "code",
      "metadata": {
        "id": "aPhrAvS7jg1H"
      },
      "source": [
        "train_df = pd.read_csv('../content/faceData.csv', encoding= 'CP949')\n",
        "print(train_df.columns.values)"
      ],
      "execution_count": null,
      "outputs": []
    },
    {
      "cell_type": "code",
      "metadata": {
        "id": "OtG1hD96Alh_"
      },
      "source": [
        "image = cv2.imread('/content/HumanFace/1 (103).jpg')\n",
        "image = cv2.cvtColor(image, cv2.COLOR_BGR2RGB)\n",
        "plt.imshow(image)\n",
        "plt.show()"
      ],
      "execution_count": null,
      "outputs": []
    },
    {
      "cell_type": "code",
      "metadata": {
        "id": "BQlHoJu3hSzd"
      },
      "source": [
        "image_mask = []\n",
        "imgPath = \"/content/HumanFace/\"\n",
        "for i in os.listdir(imgPath):\n",
        "    pic = os.path.join(imgPath + \"/\", i)\n",
        "    image_mask.append(pic)\n",
        "\n",
        "mask = pd.DataFrame()\n",
        "mask[\"image\"] = image_mask\n",
        "mask"
      ],
      "execution_count": null,
      "outputs": []
    }
  ]
}