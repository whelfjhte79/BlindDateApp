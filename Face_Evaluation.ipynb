{
  "nbformat": 4,
  "nbformat_minor": 0,
  "metadata": {
    "colab": {
      "name": "Face Evaluation.ipynb",
      "private_outputs": true,
      "provenance": [],
      "collapsed_sections": [],
      "mount_file_id": "1DngbUaQ74Vlxi3rC6lzEaS461m-Rej6-",
      "authorship_tag": "ABX9TyPiWvo7rr8wTqTeKL0LGKYj",
      "include_colab_link": true
    },
    "kernelspec": {
      "name": "python3",
      "display_name": "Python 3"
    },
    "language_info": {
      "name": "python"
    }
  },
  "cells": [
    {
      "cell_type": "markdown",
      "metadata": {
        "id": "view-in-github",
        "colab_type": "text"
      },
      "source": [
        "<a href=\"https://colab.research.google.com/github/whelfjhte79/BlindDateApp/blob/main/Face_Evaluation.ipynb\" target=\"_parent\"><img src=\"https://colab.research.google.com/assets/colab-badge.svg\" alt=\"Open In Colab\"/></a>"
      ]
    },
    {
      "cell_type": "code",
      "metadata": {
        "id": "gjTrJYIvg6_9"
      },
      "source": [
        "!unzip /content/drive/MyDrive/dataset/Humans.zip -d /content/HumanFace/"
      ],
      "execution_count": null,
      "outputs": []
    },
    {
      "cell_type": "code",
      "metadata": {
        "id": "_AiyLH7tAel9"
      },
      "source": [
        "import pandas as pd\n",
        "import numpy as np\n",
        "import seaborn as sns\n",
        "import os\n",
        "import cv2\n",
        "import matplotlib.pyplot as plt"
      ],
      "execution_count": null,
      "outputs": []
    },
    {
      "cell_type": "code",
      "metadata": {
        "id": "7mkp1Pa5ixSw"
      },
      "source": [
        "from google.colab import files\n",
        "uploaded = files.upload()\n",
        "\n",
        "for fn in uploaded.keys():\n",
        "    print('User uploaded file \"{name}\" with length {length} bytes'.format(name=fn,length=len(uploaded[fn])))"
      ],
      "execution_count": null,
      "outputs": []
    },
    {
      "cell_type": "code",
      "metadata": {
        "id": "aPhrAvS7jg1H"
      },
      "source": [
        "train_df = pd.read_csv('../content/faceData.csv', encoding= 'CP949')\n",
        "print(train_df.columns.values)"
      ],
      "execution_count": null,
      "outputs": []
    },
    {
      "cell_type": "code",
      "metadata": {
        "id": "OtG1hD96Alh_"
      },
      "source": [
        "image = cv2.imread('/content/HumanFace/1 (103).jpg')\n",
        "image = cv2.cvtColor(image, cv2.COLOR_BGR2RGB)\n",
        "plt.imshow(image)\n",
        "plt.show()"
      ],
      "execution_count": null,
      "outputs": []
    },
    {
      "cell_type": "code",
      "metadata": {
        "id": "BQlHoJu3hSzd"
      },
      "source": [
        "image_mask = []\n",
        "imgPath = \"/content/HumanFace/\"\n",
        "for i in os.listdir(imgPath):\n",
        "    pic = os.path.join(imgPath + \"/\", i)\n",
        "    image_mask.append(pic)"
      ],
      "execution_count": null,
      "outputs": []
    },
    {
      "cell_type": "code",
      "metadata": {
        "id": "KEab7HTVHOP4"
      },
      "source": [
        "from keras.preprocessing.image import load_img\n",
        "\n",
        "plt.figure(figsize=(12,8))\n",
        "\n",
        "img = load_img(mask[\"image\"][8])\n",
        "plt.imshow(img)\n",
        "plt.title(\"With Mask\", color = \"green\", size = 14)\n",
        "plt.grid(color='#999999', linestyle='-')\n",
        "plt.show()"
      ],
      "execution_count": null,
      "outputs": []
    },
    {
      "cell_type": "code",
      "metadata": {
        "id": "c9fCGhHqN2Al"
      },
      "source": [
        "# train + test\n",
        "# 임시\n",
        "#face_shape_mapping = { \"계란형\": 1, \"긴얼굴형\": 2, \"육각형\": 3, \"마름모형\": 4, \"둥근형\": 5}\n",
        "eyebrow = { \"짙음\": 1, \"보통\": 2, \"연함\": 3}\n",
        "skin = {\"밝음\": 1, \"보통\": 2, \"어두움\": 3}\n",
        "\n",
        "dataset = train_df\n",
        "#dataset['얼굴형'] = dataset['얼굴형'].map(face_shape_mapping)\n",
        "dataset['눈썹농도'] = dataset['눈썹농도'].map(eyebrow)\n",
        "dataset['피부색'] = dataset['피부색'].map(skin)\n"
      ],
      "execution_count": null,
      "outputs": []
    },
    {
      "cell_type": "code",
      "metadata": {
        "id": "EK2xKKj9Q1nA"
      },
      "source": [
        "train_df.head()"
      ],
      "execution_count": null,
      "outputs": []
    },
    {
      "cell_type": "code",
      "metadata": {
        "id": "w-_TdeyBI4u3"
      },
      "source": [
        "plt.figure(figsize=(12,8))\n",
        "\n",
        "img = load_img(mask[\"image\"][8])\n",
        "img.size\n"
      ],
      "execution_count": null,
      "outputs": []
    },
    {
      "cell_type": "code",
      "metadata": {
        "id": "GmZnBFiyelaI"
      },
      "source": [
        "img = load_img(mask[\"image\"][7])\n",
        "img.size"
      ],
      "execution_count": null,
      "outputs": []
    },
    {
      "cell_type": "code",
      "metadata": {
        "id": "EpsT-NquT0-E"
      },
      "source": [
        "#X_train = image_mask\n",
        "#Y_train = train_df['얼굴형']\n",
        "train = pd.DataFrame()\n",
        "train[\"image\"] = image_mask\n",
        "train[\"target\"] = train_df['얼굴형']"
      ],
      "execution_count": null,
      "outputs": []
    },
    {
      "cell_type": "code",
      "metadata": {
        "id": "IZC1h2rQg9Fp"
      },
      "source": [
        "import pandas as pd\n",
        "import numpy as np\n",
        "import os\n",
        "\n",
        "from keras.preprocessing.image import ImageDataGenerator, img_to_array, load_img\n",
        "\n",
        "\n",
        "train_datagen = ImageDataGenerator(rescale = 1./255,\n",
        "                                   rotation_range = 40,\n",
        "                                   width_shift_range = 0.2,\n",
        "                                   height_shift_range = 0.2,\n",
        "                                   shear_range = 0.2,\n",
        "                                   zoom_range = 0.2,\n",
        "                                   horizontal_flip = True,\n",
        "                                   fill_mode = \"nearest\")\n",
        "\n",
        "train_generator = train_datagen.flow_from_dataframe(dataframe = train,\n",
        "                                                    x_col = \"image\",\n",
        "                                                    y_col = \"target\",\n",
        "                                                    target_size = (150, 150),\n",
        "                                                    batch_size = 32,\n",
        "                                                    class_mode = \"categorical\")"
      ],
      "execution_count": null,
      "outputs": []
    },
    {
      "cell_type": "code",
      "metadata": {
        "id": "Tkl4RoEdX0-F"
      },
      "source": [
        "from keras import layers\n",
        "from keras import models\n",
        "from keras import optimizers\n",
        "from keras.applications.vgg19 import VGG19\n",
        "from keras.applications.vgg19 import preprocess_input\n",
        "\n",
        "vgg19 = VGG19(weights='imagenet',include_top=False,input_shape=(128,128,3))\n",
        "\n",
        "for layer in vgg19.layers:\n",
        "    layer.trainable = False\n",
        "    \n",
        "model = models.Sequential()\n",
        "model.add(vgg19)\n",
        "model.add(layers.Flatten())\n",
        "model.add(layers.Dense(1,activation='sigmoid'))\n",
        "model.summary()"
      ],
      "execution_count": null,
      "outputs": []
    },
    {
      "cell_type": "code",
      "metadata": {
        "id": "RyLg8tJuePgw"
      },
      "source": [
        "model.compile(loss = \"categorical_crossentropy\",\n",
        "             keras.optimizers.Adagrad(lr=0.01, epsilon=None, decay=0.0))"
      ],
      "execution_count": null,
      "outputs": []
    }
  ]
}