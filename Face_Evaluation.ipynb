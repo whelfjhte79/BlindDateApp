{
  "nbformat": 4,
  "nbformat_minor": 0,
  "metadata": {
    "colab": {
      "name": "Face Evaluation.ipynb",
      "private_outputs": true,
      "provenance": [],
      "collapsed_sections": [],
      "mount_file_id": "1DngbUaQ74Vlxi3rC6lzEaS461m-Rej6-",
      "authorship_tag": "ABX9TyM7J7qEMVhT14HCUL5N+u3w",
      "include_colab_link": true
    },
    "kernelspec": {
      "name": "python3",
      "display_name": "Python 3"
    },
    "language_info": {
      "name": "python"
    }
  },
  "cells": [
    {
      "cell_type": "markdown",
      "metadata": {
        "id": "view-in-github",
        "colab_type": "text"
      },
      "source": [
        "<a href=\"https://colab.research.google.com/github/whelfjhte79/BlindDateApp/blob/main/Face_Evaluation.ipynb\" target=\"_parent\"><img src=\"https://colab.research.google.com/assets/colab-badge.svg\" alt=\"Open In Colab\"/></a>"
      ]
    },
    {
      "cell_type": "code",
      "metadata": {
        "id": "gjTrJYIvg6_9"
      },
      "source": [
        "!unzip /content/drive/MyDrive/dataset/Humans.zip -d /content/HumanFace/"
      ],
      "execution_count": null,
      "outputs": []
    },
    {
      "cell_type": "code",
      "metadata": {
        "id": "_AiyLH7tAel9"
      },
      "source": [
        "import pandas as pd\n",
        "import numpy as np\n",
        "import seaborn as sns\n",
        "import os\n",
        "import cv2\n",
        "import matplotlib.pyplot as plt"
      ],
      "execution_count": null,
      "outputs": []
    },
    {
      "cell_type": "code",
      "metadata": {
        "id": "7mkp1Pa5ixSw"
      },
      "source": [
        "from google.colab import files\n",
        "uploaded = files.upload()\n",
        "\n",
        "for fn in uploaded.keys():\n",
        "    print('User uploaded file \"{name}\" with length {length} bytes'.format(name=fn,length=len(uploaded[fn])))"
      ],
      "execution_count": null,
      "outputs": []
    },
    {
      "cell_type": "code",
      "metadata": {
        "id": "aPhrAvS7jg1H"
      },
      "source": [
        "train_df = pd.read_csv('../content/faceData.csv', encoding= 'CP949')\n",
        "print(train_df.columns.values)"
      ],
      "execution_count": null,
      "outputs": []
    },
    {
      "cell_type": "code",
      "metadata": {
        "id": "OtG1hD96Alh_"
      },
      "source": [
        "image = cv2.imread('/content/HumanFace/1 (103).jpg')\n",
        "image = cv2.cvtColor(image, cv2.COLOR_BGR2RGB)\n",
        "plt.imshow(image)\n",
        "plt.show()"
      ],
      "execution_count": null,
      "outputs": []
    },
    {
      "cell_type": "code",
      "metadata": {
        "id": "BQlHoJu3hSzd"
      },
      "source": [
        "image_mask = []\n",
        "imgPath = \"/content/HumanFace/\"\n",
        "for i in os.listdir(imgPath):\n",
        "    pic = os.path.join(imgPath + \"/\", i)\n",
        "    image_mask.append(pic)\n",
        "\n",
        "mask = pd.DataFrame()\n",
        "mask[\"image\"] = image_mask\n",
        "mask"
      ],
      "execution_count": null,
      "outputs": []
    },
    {
      "cell_type": "code",
      "metadata": {
        "id": "KEab7HTVHOP4"
      },
      "source": [
        "plt.figure(figsize=(12,8))\n",
        "\n",
        "img = load_img(mask[\"image\"][8])\n",
        "plt.imshow(img)\n",
        "plt.title(\"With Mask\", color = \"green\", size = 14)\n",
        "plt.grid(color='#999999', linestyle='-')\n",
        "plt.show()"
      ],
      "execution_count": null,
      "outputs": []
    },
    {
      "cell_type": "code",
      "metadata": {
        "id": "c9fCGhHqN2Al"
      },
      "source": [
        "# train + test\n",
        "face_shape_mapping = { \"계란형\": 1, \"긴얼굴형\": 2, \"육각형\": 3, \"마름모형\": 4, \"둥근형\": 5}\n",
        "eyebrow = { \"짙음\": 1, \"보통\": 2, \"연함\": 3}\n",
        "skin = {\"밝음\": 1, \"보통\": 2, \"어두움\": 3}\n",
        "\n",
        "dataset = train_df\n",
        "dataset['얼굴형'] = dataset['얼굴형'].map(face_shape_mapping)\n",
        "dataset['눈썹농도'] = dataset['눈썹농도'].map(eyebrow)\n",
        "dataset['피부색'] = dataset['피부색'].map(skin)\n"
      ],
      "execution_count": null,
      "outputs": []
    },
    {
      "cell_type": "markdown",
      "metadata": {
        "id": "wAAwN-1CTJg0"
      },
      "source": [
        "# 새 섹션"
      ]
    },
    {
      "cell_type": "code",
      "metadata": {
        "id": "EK2xKKj9Q1nA"
      },
      "source": [
        "train_df.head()"
      ],
      "execution_count": null,
      "outputs": []
    },
    {
      "cell_type": "code",
      "metadata": {
        "id": "ITo6zVBCIMR5"
      },
      "source": [
        "X_train = mask\n",
        "Y_train = train_df"
      ],
      "execution_count": null,
      "outputs": []
    },
    {
      "cell_type": "code",
      "metadata": {
        "id": "w-_TdeyBI4u3"
      },
      "source": [
        "X_train"
      ],
      "execution_count": null,
      "outputs": []
    },
    {
      "cell_type": "code",
      "metadata": {
        "id": "EpsT-NquT0-E"
      },
      "source": [
        "Y_train"
      ],
      "execution_count": null,
      "outputs": []
    },
    {
      "cell_type": "code",
      "metadata": {
        "id": "Tkl4RoEdX0-F"
      },
      "source": [
        ""
      ],
      "execution_count": null,
      "outputs": []
    }
  ]
}